{
  "cells": [
    {
      "cell_type": "markdown",
      "source": [
        "### * While the original source code is written in Pytorch, the below code is adapted to Tensorflow.\n",
        "\n",
        "- GPU utilization not enabled"
      ],
      "metadata": {
        "id": "xmBdax23tCen"
      }
    },
    {
      "cell_type": "markdown",
      "metadata": {
        "id": "K7ep-bhusdrP"
      },
      "source": [
        "# 1. Preparing the tinyshakespeare text file for training"
      ]
    },
    {
      "cell_type": "code",
      "execution_count": 23,
      "metadata": {
        "id": "73HKWQbFsdrO",
        "outputId": "6515fa6e-9edc-489f-cfcb-c86b4f5d417c",
        "colab": {
          "base_uri": "https://localhost:8080/"
        }
      },
      "outputs": [
        {
          "output_type": "stream",
          "name": "stdout",
          "text": [
            "  % Total    % Received % Xferd  Average Speed   Time    Time     Time  Current\n",
            "                                 Dload  Upload   Total   Spent    Left  Speed\n",
            "\r  0     0    0     0    0     0      0      0 --:--:-- --:--:-- --:--:--     0\r100 1089k  100 1089k    0     0  5208k      0 --:--:-- --:--:-- --:--:-- 5211k\n"
          ]
        }
      ],
      "source": [
        "# Downloading tinyshakesphere for training\n",
        "!curl https://raw.githubusercontent.com/karpathy/char-rnn/master/data/tinyshakespeare/input.txt > tinyshakespeare.txt"
      ]
    },
    {
      "cell_type": "code",
      "execution_count": 24,
      "metadata": {
        "id": "t-iatUv1sdrQ",
        "outputId": "bdb8b12c-53d0-4bd9-93d3-3039dcc069b8",
        "colab": {
          "base_uri": "https://localhost:8080/"
        }
      },
      "outputs": [
        {
          "output_type": "stream",
          "name": "stdout",
          "text": [
            "There are 1115394 characters in the dataset\n"
          ]
        }
      ],
      "source": [
        "# Inspecting the text file\n",
        "with open('tinyshakespeare.txt','r') as file:\n",
        "    text = file.read()\n",
        "print(f'There are {len(text)} characters in the dataset')"
      ]
    },
    {
      "cell_type": "code",
      "execution_count": 25,
      "metadata": {
        "id": "FpDFL78AsdrR",
        "outputId": "7126d43a-8fca-483d-d26b-632245132f25",
        "colab": {
          "base_uri": "https://localhost:8080/"
        }
      },
      "outputs": [
        {
          "output_type": "stream",
          "name": "stdout",
          "text": [
            "First Citizen:\n",
            "Before we proceed any further, hear me speak.\n",
            "\n",
            "All:\n",
            "Speak, speak.\n",
            "\n",
            "First Citizen:\n",
            "You\n"
          ]
        }
      ],
      "source": [
        "# Printing the first 1000 characters\n",
        "print(text[:100])"
      ]
    },
    {
      "cell_type": "code",
      "execution_count": 26,
      "metadata": {
        "id": "aOQjexVqsdrR",
        "outputId": "f33cc5a9-63a4-40dc-e926-4307cb5dd5b0",
        "colab": {
          "base_uri": "https://localhost:8080/"
        }
      },
      "outputs": [
        {
          "output_type": "stream",
          "name": "stdout",
          "text": [
            "Number of unique characters (including white space): 65\n",
            " !$&',-.3:;?ABCDEFGHIJKLMNOPQRSTUVWXYZabcdefghijklmnopqrstuvwxyz\n"
          ]
        }
      ],
      "source": [
        "# Identifying the number of unique characters contained in the text\n",
        "chars = sorted(list(set(text)))\n",
        "vocab_size = len(chars)\n",
        "print(f\"Number of unique characters (including white space): {vocab_size}{''.join(chars)}\")"
      ]
    },
    {
      "cell_type": "markdown",
      "metadata": {
        "id": "55wnbME6sdrR"
      },
      "source": [
        "# 2. Basic mapping between characters to integers\n",
        "\n",
        "Tokenizing at the character-level.\n",
        "\n",
        "More sophisticated examples of word encoding include Google's SentencePiece and OpenAI's tiktoken"
      ]
    },
    {
      "cell_type": "code",
      "execution_count": 27,
      "metadata": {
        "id": "Tq5eWRmEsdrR",
        "outputId": "7b2c07cf-d4d5-487b-eb8f-37759053af51",
        "colab": {
          "base_uri": "https://localhost:8080/"
        }
      },
      "outputs": [
        {
          "output_type": "stream",
          "name": "stdout",
          "text": [
            "[31, 46, 39, 49, 43, 57, 54, 43, 39, 56, 43, 1, 47, 52, 1, 42, 47, 45, 47, 58, 57]\n",
            "Shakespeare in digits\n"
          ]
        }
      ],
      "source": [
        "# Assigning numbers to each characters to encode the characters to integers\n",
        "ctoi = {char : num for num, char in enumerate(chars)}\n",
        "encode = lambda s: [ctoi[c] for c in s]\n",
        "print(encode('Shakespeare in digits'))\n",
        "\n",
        "# Reversely, decode integers back to characters\n",
        "itoc = {num : char for num, char in enumerate(chars)}\n",
        "decode = lambda l : ''.join([itoc[i] for i in l])\n",
        "print(decode(encode('Shakespeare in digits')))"
      ]
    },
    {
      "cell_type": "code",
      "execution_count": 28,
      "metadata": {
        "id": "I6HH69LpsdrR",
        "outputId": "ea6ba681-6b93-43c2-85a2-ca6c5215db3e",
        "colab": {
          "base_uri": "https://localhost:8080/"
        }
      },
      "outputs": [
        {
          "output_type": "stream",
          "name": "stdout",
          "text": [
            "(1115394,) <dtype: 'int32'>\n",
            "tf.Tensor(\n",
            "[18 47 56 57 58  1 15 47 58 47 64 43 52 10  0 14 43 44 53 56 43  1 61 43\n",
            "  1 54 56 53 41 43 43 42  1 39 52 63  1 44 59 56 58 46 43 56  6  1 46 43\n",
            " 39 56  1 51 43  1 57 54 43 39 49  8  0  0 13 50 50 10  0 31 54 43 39 49\n",
            "  6  1 57 54 43 39 49  8  0  0 18 47 56 57 58  1 15 47 58 47 64 43 52 10\n",
            "  0 37 53 59], shape=(100,), dtype=int32)\n"
          ]
        }
      ],
      "source": [
        "# Tokenizing the total text\n",
        "import tensorflow as tf\n",
        "data = tf.convert_to_tensor(encode(text))\n",
        "print(data.shape, data.dtype)\n",
        "print(data[:100])"
      ]
    },
    {
      "cell_type": "code",
      "execution_count": 29,
      "metadata": {
        "id": "4XHVnVZXsdrR",
        "outputId": "d43640e0-703d-4ee1-9986-4fb2d1eaa56f",
        "colab": {
          "base_uri": "https://localhost:8080/"
        }
      },
      "outputs": [
        {
          "output_type": "stream",
          "name": "stdout",
          "text": [
            "Length of train data : 1003854\n",
            "Length of test data : 111540\n"
          ]
        }
      ],
      "source": [
        "# Train and validation split sets, with 9:1 ratio\n",
        "n = int(0.9*len(data))\n",
        "data_train = data[:n]\n",
        "data_test = data[n:]\n",
        "print(f'Length of train data : {len(data_train)}\\nLength of test data : {len(data_test)}')"
      ]
    },
    {
      "cell_type": "code",
      "execution_count": 30,
      "metadata": {
        "id": "nT2C2TlIsdrS",
        "outputId": "0467695d-7200-4572-b119-fda430056690",
        "colab": {
          "base_uri": "https://localhost:8080/"
        }
      },
      "outputs": [
        {
          "output_type": "stream",
          "name": "stdout",
          "text": [
            "tf.Tensor([18 47 56 57 58  1 15 47 58], shape=(9,), dtype=int32)\n",
            "Input : [18], Output : 47\n",
            "Input : [18 47], Output : 56\n",
            "Input : [18 47 56], Output : 57\n",
            "Input : [18 47 56 57], Output : 58\n",
            "Input : [18 47 56 57 58], Output : 1\n",
            "Input : [18 47 56 57 58  1], Output : 15\n",
            "Input : [18 47 56 57 58  1 15], Output : 47\n",
            "Input : [18 47 56 57 58  1 15 47], Output : 58\n"
          ]
        }
      ],
      "source": [
        "# Starting with block_size implementation\n",
        "block_size = 8                            # Context length\n",
        "print(data_train[:block_size + 1])\n",
        "x = data_train[:block_size]               # Initial block-size\n",
        "y = data_train[1:block_size+1]            # Next block-size\n",
        "for t in range(block_size):\n",
        "    context = x[:t+1]\n",
        "    target = y[t]\n",
        "    print(f'Input : {context}, Output : {target}')"
      ]
    },
    {
      "cell_type": "code",
      "execution_count": 31,
      "metadata": {
        "id": "fpT9xJShsdrS",
        "outputId": "9ca5245a-b625-40a4-d1d9-501786173417",
        "colab": {
          "base_uri": "https://localhost:8080/"
        }
      },
      "outputs": [
        {
          "output_type": "stream",
          "name": "stdout",
          "text": [
            "inputs:\n",
            "(4, 8)\n",
            "tf.Tensor(\n",
            "[[ 1 51 63  1 41 53 39 58]\n",
            " [39 42  0 20 47 57  1 52]\n",
            " [32 53  1 56 43 60 43 50]\n",
            " [54 39 52 63  1 54 47 43]], shape=(4, 8), dtype=int32)\n",
            "targets:\n",
            "(4, 8)\n",
            "tf.Tensor(\n",
            "[[51 63  1 41 53 39 58  6]\n",
            " [42  0 20 47 57  1 52 39]\n",
            " [53  1 56 43 60 43 50  1]\n",
            " [39 52 63  1 54 47 43 41]], shape=(4, 8), dtype=int32)\n",
            "When input is [1] the target is 51\n",
            "When input is [1, 51] the target is 63\n",
            "When input is [1, 51, 63] the target is 1\n",
            "When input is [1, 51, 63, 1] the target is 41\n",
            "When input is [1, 51, 63, 1, 41] the target is 53\n",
            "When input is [1, 51, 63, 1, 41, 53] the target is 39\n",
            "When input is [1, 51, 63, 1, 41, 53, 39] the target is 58\n",
            "When input is [1, 51, 63, 1, 41, 53, 39, 58] the target is 6\n",
            "When input is [39] the target is 42\n",
            "When input is [39, 42] the target is 0\n",
            "When input is [39, 42, 0] the target is 20\n",
            "When input is [39, 42, 0, 20] the target is 47\n",
            "When input is [39, 42, 0, 20, 47] the target is 57\n",
            "When input is [39, 42, 0, 20, 47, 57] the target is 1\n",
            "When input is [39, 42, 0, 20, 47, 57, 1] the target is 52\n",
            "When input is [39, 42, 0, 20, 47, 57, 1, 52] the target is 39\n",
            "When input is [32] the target is 53\n",
            "When input is [32, 53] the target is 1\n",
            "When input is [32, 53, 1] the target is 56\n",
            "When input is [32, 53, 1, 56] the target is 43\n",
            "When input is [32, 53, 1, 56, 43] the target is 60\n",
            "When input is [32, 53, 1, 56, 43, 60] the target is 43\n",
            "When input is [32, 53, 1, 56, 43, 60, 43] the target is 50\n",
            "When input is [32, 53, 1, 56, 43, 60, 43, 50] the target is 1\n",
            "When input is [54] the target is 39\n",
            "When input is [54, 39] the target is 52\n",
            "When input is [54, 39, 52] the target is 63\n",
            "When input is [54, 39, 52, 63] the target is 1\n",
            "When input is [54, 39, 52, 63, 1] the target is 54\n",
            "When input is [54, 39, 52, 63, 1, 54] the target is 47\n",
            "When input is [54, 39, 52, 63, 1, 54, 47] the target is 43\n",
            "When input is [54, 39, 52, 63, 1, 54, 47, 43] the target is 41\n"
          ]
        }
      ],
      "source": [
        "## To be worked on : packaging the code with script with variables for later\n",
        "# Depiction of the chunk(or in here, block)-wise transformation.\n",
        "# Having varied blocksize allows the algorithm to take into account the context for inference purpose\n",
        "\n",
        "tf.random.set_seed(1337) # For reproducibility, to be sure to have consistent random number\n",
        "batch_size = 4 # The number of independent sequences to train in parallel\n",
        "block_size = 8 # The maximum context length for prediction\n",
        "\n",
        "def get_batch(split):\n",
        "    '''\n",
        "    Function to generate a small batch of data of inputs x and targets y\n",
        "    '''\n",
        "\n",
        "    data = data_train if split == 'train' else data_test\n",
        "    # Retrieving batches randomly\n",
        "    ix = tf.random.uniform(shape = (batch_size,),\n",
        "                          maxval = len(data) - block_size,\n",
        "                          dtype = tf.int32)\n",
        "    # Stacking the list of tensors\n",
        "    x = tf.stack([data[i:i+block_size] for i in ix])\n",
        "    y = tf.stack([data[i+1:i+block_size+1] for i in ix])\n",
        "    return x, y\n",
        "\n",
        "xb, yb = get_batch('train')\n",
        "print('inputs:')\n",
        "print(xb.shape)\n",
        "print(xb)\n",
        "print('targets:')\n",
        "print(yb.shape)\n",
        "print(yb)\n",
        "for batch in range(batch_size):       # Batch dimension\n",
        "    for block in range(block_size):   # Time dimension\n",
        "        context = xb[batch, :block+1]\n",
        "        target = yb[batch, block]\n",
        "        print(f'When input is {context.numpy().tolist()} the target is {target}')"
      ]
    },
    {
      "cell_type": "markdown",
      "source": [
        "## Basic BigramModel for training"
      ],
      "metadata": {
        "id": "6o2p6veM6AH1"
      }
    },
    {
      "cell_type": "code",
      "execution_count": 32,
      "metadata": {
        "id": "s5cA7HEusdrS",
        "outputId": "b620ba9b-b696-4b6f-8523-38fcded178c5",
        "colab": {
          "base_uri": "https://localhost:8080/"
        }
      },
      "outputs": [
        {
          "output_type": "stream",
          "name": "stdout",
          "text": [
            "(32, 65)\n",
            "4.185914\n",
            "\n",
            "sZTe-Wz-K,?hNk?Yr:r'KUFLHH:QmLbpCkI\n",
            "oYwnqePrE\n",
            "!zgz'U:,?ZgzxEjHtgpzBQjGjM&vv.;OBdqFlQ qxcwcexWhPKs:$'\n"
          ]
        }
      ],
      "source": [
        "tf.random.set_seed(1337)\n",
        "\n",
        "class BigramLanguageModel(tf.keras.Model):\n",
        "\n",
        "    def __init__(self, vocab_size):\n",
        "        '''Initializing embedding layer, which maps integer indices to\n",
        "        dense vectors of vocab size'''\n",
        "        super(BigramLanguageModel, self).__init__()\n",
        "        self.token_embedding_table = tf.keras.layers.Embedding(vocab_size, vocab_size)\n",
        "\n",
        "    def call(self, idx, targets=None):\n",
        "        '''Method for loss calculation, based on idx (input token indices) and\n",
        "        target (target token indices)\n",
        "        B : Batch size\n",
        "        T : Time = block size = sequence length\n",
        "        C : Channel = vocab size = number of classes\n",
        "        '''\n",
        "        logits = self.token_embedding_table(idx)  # Replacing embedding to the indices\n",
        "\n",
        "        if targets is None: # If target is not provided\n",
        "            loss = None\n",
        "        else:               # If target is provided, reshape the tensor so that it's compatible with categorical cross entropy\n",
        "            B, T, C = tf.shape(logits) # Get the shape of logits\n",
        "            logits = tf.reshape(logits, (B * T, C)) # Flatten logits for comparison\n",
        "            targets = tf.reshape(targets, (B * T,)) # Flatten targets\n",
        "            loss = tf.reduce_mean(tf.keras.losses.sparse_categorical_crossentropy(targets, logits, from_logits=True))\n",
        "        return logits, loss\n",
        "\n",
        "    def generate(self, idx, max_new_tokens):\n",
        "        '''\n",
        "        Text generating method\n",
        "        '''\n",
        "        # idx is (B, T) array of indices in the current context\n",
        "        for _ in range(max_new_tokens):\n",
        "            # Get the predictions\n",
        "            logits, loss = self(idx)\n",
        "            # Focus only on the last time step (i.e. history is not being used)\n",
        "            logits = logits[:, -1, :]  # becomes (B, C)\n",
        "            # Apply softmax to get probabilities\n",
        "            probs = tf.nn.softmax(logits, axis=-1)  # (B, C)\n",
        "            # One sample prediction from the distribution\n",
        "            idx_next = tf.random.categorical(tf.math.log(probs), num_samples=1, dtype=tf.int64) # (B, 1)\n",
        "\n",
        "            # idx_next = tf.random.categorical(probs, num_samples=1)\n",
        "            # append sampled index to the running sequence\n",
        "            idx = tf.concat([idx, tf.cast(idx_next, tf.int32)], axis=1)  # (B, T+1)\n",
        "        return idx\n",
        "\n",
        "model = BigramLanguageModel(vocab_size)\n",
        "\n",
        "logits, loss = model.call(xb, yb)\n",
        "print(logits.shape)\n",
        "print(loss.numpy())\n",
        "\n",
        "print(decode(model.generate(idx=tf.zeros((1, 1), dtype=tf.int32), max_new_tokens=100)[0].numpy().tolist()))"
      ]
    },
    {
      "cell_type": "markdown",
      "source": [
        "### Creating an optimizer"
      ],
      "metadata": {
        "id": "OzC_WFoR4GjM"
      }
    },
    {
      "cell_type": "code",
      "execution_count": 47,
      "metadata": {
        "id": "cfQXnFyNsdrS"
      },
      "outputs": [],
      "source": [
        "from tensorflow.keras.optimizers import Adam\n",
        "optimizer = Adam(learning_rate = 1e-3) ## Learning rate of 0.001"
      ]
    },
    {
      "cell_type": "code",
      "execution_count": 34,
      "metadata": {
        "id": "2GRgIwnCsdrS"
      },
      "outputs": [],
      "source": [
        "eval_iters = 400\n",
        "\n",
        "# @tf.function omitted as iterating over a symbolic `tf.Tensor` is not allowed.\n",
        "def estimate_loss():\n",
        "  '''\n",
        "  Function to average up the loss in multiple batches for both splits\n",
        "  '''\n",
        "  output = {}\n",
        "  model.trainable = False # Setting the model to evaluation phase\n",
        "  for split in ['train','val']:\n",
        "      losses = []\n",
        "      for _ in range(eval_iters):\n",
        "          X, Y = get_batch(split)\n",
        "          logits, loss = model.call(X,Y)\n",
        "          losses.append(loss)\n",
        "      output[split] = tf.reduce_mean(losses)\n",
        "  model.trainable = True # Setting the model back to training phase\n",
        "  return output"
      ]
    },
    {
      "cell_type": "code",
      "execution_count": 35,
      "metadata": {
        "id": "lHx05pj0sdrS",
        "outputId": "e9931a87-f606-4197-b0bf-f222e7c0e059",
        "colab": {
          "base_uri": "https://localhost:8080/"
        }
      },
      "outputs": [
        {
          "output_type": "stream",
          "name": "stdout",
          "text": [
            "Step 0: train loss 4.1761, val loss 4.1760\n",
            "Step 400: train loss 3.4000, val loss 3.4083\n",
            "Step 800: train loss 3.0095, val loss 3.0167\n",
            "Step 1200: train loss 2.8002, val loss 2.8070\n",
            "Step 1600: train loss 2.6759, val loss 2.6935\n",
            "Step 2000: train loss 2.6103, val loss 2.6269\n",
            "Step 2400: train loss 2.5720, val loss 2.5824\n",
            "Step 2800: train loss 2.5461, val loss 2.5476\n",
            "Step 3200: train loss 2.5226, val loss 2.5310\n",
            "Step 3600: train loss 2.5044, val loss 2.5202\n",
            "Final Loss: 2.5085837841033936\n"
          ]
        }
      ],
      "source": [
        "batch_size = 32\n",
        "for step in tf.range(4000):\n",
        "    if step % eval_iters == 0:\n",
        "        losses = estimate_loss()\n",
        "        print(f\"Step {step}: train loss {losses['train']:.4f}, val loss {losses['val']:.4f}\")\n",
        "\n",
        "    # Sample a batch of data\n",
        "    xb, yb = get_batch('train')\n",
        "\n",
        "    # Evaluate the loss and update parameters\n",
        "    with tf.GradientTape() as tape:\n",
        "        logits, loss = model(xb,yb)\n",
        "    gradients = tape.gradient(loss, model.trainable_variables)\n",
        "    optimizer.apply_gradients(zip(gradients, model.trainable_variables))\n",
        "\n",
        "print(f'Final Loss: {loss.numpy()}')"
      ]
    },
    {
      "cell_type": "code",
      "execution_count": 36,
      "metadata": {
        "id": "ziuASsv3sdrT",
        "outputId": "e938a33f-3cba-4d20-a636-67c65cfe870c",
        "colab": {
          "base_uri": "https://localhost:8080/"
        }
      },
      "outputs": [
        {
          "output_type": "stream",
          "name": "stdout",
          "text": [
            "\n",
            "\n",
            "Fathe wivor thiranen as hy psce lf tes: tangeisnershert ma forerdve wilite\n",
            "GHoprs be uelathe?xou Ingrinme ll llou ond ahit Erendir\n",
            "D bloouHisu; sh he l la!&ily set: fueyoeke fo t MPris;\n",
            "FR.\n",
            "Pres;\n",
            "Wollouth\n",
            "I n vesere his.\n",
            "\n",
            "I dg\n",
            "Weronth tournd woour ariets iend t I bist p'CKy: s d$XTolfes titowil, irchatigherou\n",
            "Bun\n",
            "KExfor ife oth, futcy\n",
            "\n",
            "Th d mowethest htover h ht wll anl XHaveirpril aik r ver?\n",
            "\n",
            "The\n",
            "D: tn\n",
            "HAUSthe. e Pl ony stan fof, b, t w,\n",
            "TYHUNy mit amad\n",
            "DYI whaf she she.\n",
            "SAPEO:\n",
            "CKIOMOx:\n",
            "CFas t t ace ben?\n",
            "YUMaco thapoush, tes flyofen pea slare is.\n",
            "K:TIf t:\n",
            "may s, pend!K?\n",
            "AGNDII s ist theaxcelevers; therof nt; tey, d t hyClschathice te oRD:\n",
            "PO as ipq!\n",
            "Nin, m n n\n",
            "\n",
            "\n",
            "\n",
            "We,\n",
            "NED&e h.\n",
            "Aneroorot y rcldd icucRORDEur YK:\n",
            "D t um.\n",
            "SLO d aASur;\n",
            "\n",
            "WEmeaiso'?\n",
            "P?Vrey th sel'ty tind gu figardstarthecore and withes ousthad besthind w st s wrmomy, toxthe\n",
            "Dzhe apon\n",
            "DI mbe, bilorey f ws he wurane mopoy urswicaze mprs se in taiuleayM:\n",
            "\n",
            "\n",
            "\n",
            "ME.\n",
            "QYo\n",
            "\n",
            "HAn hedwed sthadr the ind, tou fo erthicacoforil worow thavean\n"
          ]
        }
      ],
      "source": [
        "# Generate a sequence\n",
        "idx = tf.zeros((1, 1), dtype=tf.int32)\n",
        "generated_sequence = model.generate(idx, max_new_tokens=1000).numpy()\n",
        "print(decode(generated_sequence[0].tolist()))"
      ]
    },
    {
      "cell_type": "markdown",
      "metadata": {
        "id": "pt-q5K1BsdrT"
      },
      "source": [
        "## The mathematical trick in self-attention\n",
        "Below present different ways of calculating weighted aggregation of a matrix, from beginning of the block in each batch, up to the 't'th token. The results of the four approaches are the same"
      ]
    },
    {
      "cell_type": "code",
      "source": [
        "# Common code\n",
        "tf.random.set_seed(1337)\n",
        "\n",
        "# Tokens learning from previous context, by calculating average up to 't'th token\n",
        "B,T,C = 4,8,2 # Batch, Time, Channels\n",
        "x = tf.random.uniform(shape=(B, T,C))"
      ],
      "metadata": {
        "id": "p1Ypwptzhc6a"
      },
      "execution_count": 37,
      "outputs": []
    },
    {
      "cell_type": "markdown",
      "source": [
        "### Version 1: Basic"
      ],
      "metadata": {
        "id": "7iqndYlwH3kp"
      }
    },
    {
      "cell_type": "code",
      "execution_count": 38,
      "metadata": {
        "id": "-eOjLoiqsdrT"
      },
      "outputs": [],
      "source": [
        "xbow = tf.zeros((B,T,C)) # Defining a bag of words\n",
        "for b in range (B):\n",
        "    for t in range (T):\n",
        "        xprev = x[b, :t+1] # (t, C) Batch, including the 't'th token\n",
        "        xbow = xbow.numpy()  # Convert xbow to numpy array to support assignment\n",
        "        xbow[b, t] = tf.reduce_mean(xprev, axis=0).numpy()  # Calculate mean and assign to xbow\n",
        "        xbow = tf.convert_to_tensor(xbow)  # Convert back to tensor"
      ]
    },
    {
      "cell_type": "markdown",
      "metadata": {
        "id": "vamUFUHssdrT"
      },
      "source": [
        "### Version 2: Vectorizing\n"
      ]
    },
    {
      "cell_type": "code",
      "execution_count": 39,
      "metadata": {
        "id": "HwFOca6CsdrT",
        "outputId": "63756c74-7e99-4429-b8c1-63f4b1472ade",
        "colab": {
          "base_uri": "https://localhost:8080/"
        }
      },
      "outputs": [
        {
          "output_type": "execute_result",
          "data": {
            "text/plain": [
              "True"
            ]
          },
          "metadata": {},
          "execution_count": 39
        }
      ],
      "source": [
        "w = tf.linalg.band_part(tf.ones((T,T)),num_lower = 8, num_upper= 0)\n",
        "w = w / tf.math.reduce_sum(w, axis = 1, keepdims = True) # Low triangular matrix for calculating average weights\n",
        "\n",
        "xbow2 = w @ x # (B, T, T) @ (B , T, C) --> (B, T, C)\n",
        "tf.experimental.numpy.allclose(xbow,xbow2).numpy() # Checking whether xbow == xbow2"
      ]
    },
    {
      "cell_type": "markdown",
      "source": [
        "### Version 3: Using softmax"
      ],
      "metadata": {
        "id": "auCbs_uBIBei"
      }
    },
    {
      "cell_type": "code",
      "execution_count": 40,
      "metadata": {
        "id": "mloGBUAzsdrT",
        "outputId": "58228754-b055-4bfc-e89f-9e62e9c4b3f7",
        "colab": {
          "base_uri": "https://localhost:8080/"
        }
      },
      "outputs": [
        {
          "output_type": "execute_result",
          "data": {
            "text/plain": [
              "True"
            ]
          },
          "metadata": {},
          "execution_count": 40
        }
      ],
      "source": [
        "tril = tf.linalg.band_part(tf.ones((T,T)),num_lower = 8, num_upper= 0)\n",
        "w = tf.zeros((T,T))\n",
        "w = tf.where(tril == 0, float('-inf'), w) # Replacing 0s with -inf, indicating that the past blocks cannot communicate with the future blocks\n",
        "w = tf.nn.softmax(w, axis = -1) # Normalizing the weight matrix\n",
        "xbow3 = w @ x\n",
        "tf.experimental.numpy.allclose(xbow,xbow3).numpy()"
      ]
    },
    {
      "cell_type": "markdown",
      "source": [
        "### Version 4: Self-attention\n",
        "\n",
        "Called self-attention as the key, query and value are generated from the same value (x)\n",
        "\n",
        "Note that key and query weights values are different as"
      ],
      "metadata": {
        "id": "OVt_n-VReoxa"
      }
    },
    {
      "cell_type": "code",
      "source": [
        "# Attention mechanism\n",
        "head_size = 16\n",
        "key = tf.keras.layers.Dense(units=head_size, use_bias=False)\n",
        "query = tf.keras.layers.Dense(units=head_size, use_bias=False)\n",
        "value = tf.keras.layers.Dense(units=head_size, use_bias=False)\n",
        "k = key(x) # Weights adjusted, (B, T, 16)\n",
        "q = query(x) # (B, T, 16)\n",
        "w = q @ tf.transpose(k, perm=[0,2,1]) # (B, T, 16) @ (B, 16, T) -> (B, T, T), with (T, T) indicating elements compared with every element in the sequence\n",
        "\n",
        "tril = tf.linalg.band_part(tf.ones((T,T)),num_lower = 8, num_upper= 0)\n",
        "w = tf.where(tril == 0, float('-inf'), w) # Replacing 0s with -inf, indicating that the past blocks cannot communicate with the future blocks\n",
        "w = tf.nn.softmax(w, axis = -1) # Normalizing the weight matrix\n",
        "\n",
        "v = value(x)\n",
        "out = w @ v # Using aggregated value instead of the raw x for dimensionality reduction, information extraction\n",
        "out.shape"
      ],
      "metadata": {
        "id": "4UtHbUZCerfL",
        "outputId": "452a714e-54e4-4da2-818d-f26dcaab2aa3",
        "colab": {
          "base_uri": "https://localhost:8080/"
        }
      },
      "execution_count": 41,
      "outputs": [
        {
          "output_type": "execute_result",
          "data": {
            "text/plain": [
              "TensorShape([4, 8, 16])"
            ]
          },
          "metadata": {},
          "execution_count": 41
        }
      ]
    },
    {
      "cell_type": "markdown",
      "metadata": {
        "id": "NgtNLQkCsdrT"
      },
      "source": [
        "Notes:\n",
        "- Attention is a communication mechanism. Can be seen as nodes in a directed graph looking at each other and aggregating information with a weighted sum from all nodes that point to them, with data-dependent weights.\n",
        "- There is no notion of space. Attention simply acts over as a set of vectors. This is why we need to positionally encode tokens\n",
        "- Each example across batch dimension is of course processed completely independently and never 'talk' to each other\n",
        "- In an 'encoder' attention block (w = tf.where(tril == 0, float('-inf'), w))code can be omitted, allowing all tokens to communicate. This block here is called a 'decoder' attention block because it has triangular masking, and is usually used in autoregressive settings, like language modeling.\n",
        "- 'Self attention' just means that the keys and values are produced from the same source as queries. In 'Cross-attention', the queries still get produced from x, but the keys and values come from some other, external source (e.g. an encoder module)\n",
        "- 'Scaled' attention additional divides wei by 1/sqrt(head_size). This makes it so when input Q, K are unit variance, wei will be unit variance too and softmax will stay diffuses and not saturate too much, Illustration below"
      ]
    },
    {
      "cell_type": "markdown",
      "metadata": {
        "id": "fL_HY8n3sdrT"
      },
      "source": [
        "## Modified BigramModel with self-attention"
      ]
    },
    {
      "cell_type": "code",
      "source": [
        "# Hyperparameters\n",
        "batch_size = 32 # Independent sequences to process in parallel\n",
        "block_size = 8 # Maximum context length for prediction\n",
        "max_iters = 5000\n",
        "eval_interval = 50\n",
        "learning_rate = 1e-3\n",
        "eval_iters = 200\n",
        "n_embed = 32"
      ],
      "metadata": {
        "id": "CyK3tVVdNEpO"
      },
      "execution_count": 42,
      "outputs": []
    },
    {
      "cell_type": "code",
      "execution_count": 45,
      "metadata": {
        "outputId": "c468d4a1-3850-4c18-d7fb-9c99adfddf09",
        "colab": {
          "base_uri": "https://localhost:8080/"
        },
        "id": "l4JRlLv4LFms"
      },
      "outputs": [
        {
          "output_type": "stream",
          "name": "stdout",
          "text": [
            "(256, 65)\n",
            "4.173274\n",
            "\n",
            "saTf-Wz-K-?hNk;Yr:r'KUFLHH:QmLbpClI\n",
            "oYwnqePrE\n",
            "!zgz'U:,?ZgzxEjHtgpzAQjGjM&vv.;OBdqFlP qxcwcexWhPKs:$'\n"
          ]
        }
      ],
      "source": [
        "tf.random.set_seed(1337)\n",
        "\n",
        "class Head(tf.keras.Model):\n",
        "    \"\"\"one head of self-attention\"\"\"\n",
        "\n",
        "    def __init__(self, head_size):\n",
        "        '''Initializing embedding layer, which maps integer indices to\n",
        "        dense vectors of vocab size'''\n",
        "        super(Head, self).__init__()\n",
        "        self.key = tf.keras.layers.Dense(units=head_size, use_bias=False)\n",
        "        self.query = tf.keras.layers.Dense(units=head_size, use_bias=False)\n",
        "        self.value = tf.keras.layers.Dense(units=head_size, use_bias=False)\n",
        "        self.tril = tf.constant(tf.linalg.band_part(tf.ones((block_size, block_size)), -1, 0), dtype= tf.float32)\n",
        "\n",
        "    def call(self, x):\n",
        "        B, T, C = x.shape\n",
        "        k = self.key(x)     # (B,T,C)\n",
        "        q = self.query(x)   # (B,T,C)\n",
        "        # Compute attention scores ('affinities')\n",
        "        wei = q @ tf.transpose(k, perm=[0,2,1]) * C ** (-0.5) # (B,T,C) @ (B,C,T) -> (B,T,T)\n",
        "        wei = tf.where(self.tril[:T, :T] == 0, float('-inf'), wei) # Mask the upper triangular part, (B,T,T)\n",
        "        wei = tf.nn.softmax(wei, axis = -1) # (B,T,T)\n",
        "        # Perform the weighted aggregation of the values\n",
        "        v = self.value(x) # (B,T,C)\n",
        "        out = wei @ v # (B,T,T) @ (B,T,C) -> (B,T,C)\n",
        "        return out\n",
        "\n",
        "\n",
        "\n",
        "class BigramLanguageModel(tf.keras.Model):\n",
        "\n",
        "    def __init__(self, vocab_size):\n",
        "        '''Initializing embedding layer, which maps integer indices to\n",
        "        dense vectors of vocab size'''\n",
        "        super(BigramLanguageModel, self).__init__()\n",
        "        self.token_embedding_table = tf.keras.layers.Embedding(vocab_size, n_embed)\n",
        "        self.position_embedding_table = tf.keras.layers.Embedding(block_size, n_embed)\n",
        "        self.sa_head = Head(n_embed)\n",
        "        self.lm_head = tf.keras.layers.Dense(units=vocab_size)\n",
        "\n",
        "    def call(self, idx, targets=None):\n",
        "        '''Method for loss calculation, based on idx (input token indices) and\n",
        "        target (target token indices)\n",
        "        B : Batch size\n",
        "        T : Time = block size = sequence length\n",
        "        C : Channel = vocab size = number of classes\n",
        "        '''\n",
        "        B,T = idx.shape\n",
        "\n",
        "        token_emb = self.token_embedding_table(idx)  # (B, T, C) Replacing indices with embeddings\n",
        "        pos_emb = self.position_embedding_table(tf.range(T, dtype=tf.int32)) # (T,C)\n",
        "        x = token_emb + pos_emb # (B, T, C) Containing both token embedding and position\n",
        "        x = self.sa_head(x) # Apply one head of self-attention (B, T, C)\n",
        "        logits = self.lm_head(x)  # (B, T, vocab_size)\n",
        "\n",
        "        if targets is None: # If target is not provided\n",
        "            loss = None\n",
        "        else:               # If target is provided, reshape the tensor so that it's compatible with categorical cross entropy\n",
        "            B, T, C = tf.shape(logits) # Get the shape of logits\n",
        "            logits = tf.reshape(logits, (B * T, C)) # Flatten logits for comparison\n",
        "            targets = tf.reshape(targets, (B * T,)) # Flatten targets\n",
        "            loss = tf.reduce_mean(tf.keras.losses.sparse_categorical_crossentropy(targets, logits, from_logits=True))\n",
        "        return logits, loss\n",
        "\n",
        "    def generate(self, idx, max_new_tokens):\n",
        "        '''\n",
        "        Text generating method\n",
        "        '''\n",
        "        # idx is (B, T) array of indices in the current context\n",
        "        for _ in range(max_new_tokens):\n",
        "            # Crop idx to the last block_size tokens to avoid going out of scope\n",
        "            idx_cond = idx[:, -block_size:]\n",
        "            # Get the predictions\n",
        "            logits, loss = self(idx_cond)\n",
        "            # Focus only on the last time step (i.e. history is not being used)\n",
        "            logits = logits[:, -1, :]  # becomes (B, C)\n",
        "            # Apply softmax to get probabilities\n",
        "            probs = tf.nn.softmax(logits, axis=-1)  # (B, C)\n",
        "            # One sample prediction from the distribution\n",
        "            idx_next = tf.random.categorical(tf.math.log(probs), num_samples=1, dtype=tf.int64) # (B, 1)\n",
        "\n",
        "            # idx_next = tf.random.categorical(probs, num_samples=1)\n",
        "            # append sampled index to the running sequence\n",
        "            idx = tf.concat([idx, tf.cast(idx_next, tf.int32)], axis=1)  # (B, T+1)\n",
        "        return idx\n",
        "\n",
        "model = BigramLanguageModel(vocab_size)\n",
        "\n",
        "logits, loss = model.call(xb, yb)\n",
        "print(logits.shape)\n",
        "print(loss.numpy())\n",
        "\n",
        "print(decode(model.generate(idx=tf.zeros((1, 1), dtype=tf.int32), max_new_tokens=100)[0].numpy().tolist()))"
      ]
    },
    {
      "cell_type": "code",
      "source": [
        "for step in tf.range(max_iters):\n",
        "    if step % eval_iters == 0:\n",
        "        losses = estimate_loss()\n",
        "        print(f\"Step {step}: train loss {losses['train']:.4f}, val loss {losses['val']:.4f}\")\n",
        "\n",
        "    # Sample a batch of data\n",
        "    xb, yb = get_batch('train')\n",
        "\n",
        "    # Evaluate the loss and update parameters\n",
        "    with tf.GradientTape() as tape:\n",
        "        logits, loss = model(xb,yb)\n",
        "    gradients = tape.gradient(loss, model.trainable_variables)\n",
        "    optimizer.apply_gradients(zip(gradients, model.trainable_variables))\n",
        "\n",
        "print(f'Final Loss: {loss.numpy()}')"
      ],
      "metadata": {
        "id": "gpispaH9VTdW",
        "outputId": "0c89fa97-a262-4e05-d5fc-52a9a5638ca6",
        "colab": {
          "base_uri": "https://localhost:8080/"
        }
      },
      "execution_count": 48,
      "outputs": [
        {
          "output_type": "stream",
          "name": "stdout",
          "text": [
            "Step 0: train loss 4.1738, val loss 4.1741\n",
            "Step 200: train loss 3.0578, val loss 3.0937\n",
            "Step 400: train loss 2.7313, val loss 2.7398\n",
            "Step 600: train loss 2.6229, val loss 2.6082\n",
            "Step 800: train loss 2.5584, val loss 2.5564\n",
            "Step 1000: train loss 2.5136, val loss 2.5261\n",
            "Step 1200: train loss 2.4928, val loss 2.4893\n",
            "Step 1400: train loss 2.4776, val loss 2.4862\n",
            "Step 1600: train loss 2.4662, val loss 2.4733\n",
            "Step 1800: train loss 2.4550, val loss 2.4414\n",
            "Step 2000: train loss 2.4447, val loss 2.4607\n",
            "Step 2200: train loss 2.4414, val loss 2.4354\n",
            "Step 2400: train loss 2.4224, val loss 2.4276\n",
            "Step 2600: train loss 2.4263, val loss 2.4249\n",
            "Step 2800: train loss 2.4199, val loss 2.4241\n",
            "Step 3000: train loss 2.4157, val loss 2.4192\n",
            "Step 3200: train loss 2.4099, val loss 2.4100\n",
            "Step 3400: train loss 2.4038, val loss 2.4105\n",
            "Step 3600: train loss 2.4016, val loss 2.4223\n",
            "Step 3800: train loss 2.3983, val loss 2.4150\n",
            "Step 4000: train loss 2.3998, val loss 2.4108\n",
            "Step 4200: train loss 2.4044, val loss 2.3970\n",
            "Step 4400: train loss 2.3870, val loss 2.4015\n",
            "Step 4600: train loss 2.3937, val loss 2.3958\n",
            "Step 4800: train loss 2.3773, val loss 2.3992\n",
            "Final Loss: 2.336725950241089\n"
          ]
        }
      ]
    },
    {
      "cell_type": "code",
      "execution_count": 49,
      "metadata": {
        "outputId": "629688bf-25c3-40a5-d41f-8ee9600989ed",
        "colab": {
          "base_uri": "https://localhost:8080/"
        },
        "id": "gzNejCFwa9nD"
      },
      "outputs": [
        {
          "output_type": "stream",
          "name": "stdout",
          "text": [
            "\n",
            "LARIHA:\n",
            "Tovourat I hat arg imenf irmak, awbe, tiar best head fains sit ite sy bechepr'd as tracod tse fo gee,\n",
            "Goru be?\n",
            "Cand my mbrat, cheest had xby.\n",
            "\n",
            "PEESNort irdo ssknghathereay if'l yorm ss angtrt Arosan ond hese wet. Hoverkud, me wisow man sth thabyowingoindn whimor thy ined at ms he arat cillo.\n",
            "Thish by\n",
            "Bajureese stheer andisuseso!\n",
            "Hont, bre ay tae is here b howrard umy.\n",
            "\n",
            "TOFLUET:\n",
            "us hadele hanmomere gtthe; Alld cor blich, ay.\n",
            "\n",
            "NELV:\n",
            "\n",
            "Theastoh ad myomde hearliscit ghe! maf Senat of yummy ry wor ingey maverthe: Joutrllowle, TRHorpemonoongwono yeamatishe, ped's;\n",
            "ARe INource!\n",
            "PORIDWhirdyo fito gwhrer harimeay ho for dop!\n",
            "\n",
            "ONors ilveve lorein nigg to wins! Bvostthew dy; irtatr is asimlece, cas?\n",
            "\n",
            "OF; fo't burnge nt houcurt weve une.\n",
            "\n",
            "AMURI: I fes\n",
            "Bon\n",
            "Hesist hond sus lay anolllay, oay Vetrmemcengo thin for lclo cll-us:\n",
            "The paeeates\n",
            "You ise wor witwinghe seagre ut a rt igu eakefary nout menod.\n",
            "POLond, hid mher:\n",
            "RY:\n",
            "Bin? haw diveramrer senurf llld fer cavely cknet te thay the sond\n",
            "D ingor\n"
          ]
        }
      ],
      "source": [
        "# Generate a sequence\n",
        "idx = tf.zeros((1, 1), dtype=tf.int32)\n",
        "generated_sequence = model.generate(idx, max_new_tokens=1000).numpy()\n",
        "print(decode(generated_sequence[0].tolist()))"
      ]
    },
    {
      "cell_type": "markdown",
      "source": [
        "## Multi-headed attention"
      ],
      "metadata": {
        "id": "rqcACneZN9rj"
      }
    },
    {
      "cell_type": "code",
      "execution_count": null,
      "metadata": {
        "id": "jZNYqeA4sdrT",
        "outputId": "47661e1c-0b41-4e92-c230-50df1eafa5e8",
        "colab": {
          "base_uri": "https://localhost:8080/",
          "height": 332
        }
      },
      "outputs": [
        {
          "output_type": "error",
          "ename": "AttributeError",
          "evalue": "'BigramLanguageModel' object has no attribute 'position_embedding_table'",
          "traceback": [
            "\u001b[0;31m---------------------------------------------------------------------------\u001b[0m",
            "\u001b[0;31mAttributeError\u001b[0m                            Traceback (most recent call last)",
            "\u001b[0;32m<ipython-input-19-0d35c7757274>\u001b[0m in \u001b[0;36m<cell line: 56>\u001b[0;34m()\u001b[0m\n\u001b[1;32m     54\u001b[0m \u001b[0;34m\u001b[0m\u001b[0m\n\u001b[1;32m     55\u001b[0m \u001b[0mmodel\u001b[0m \u001b[0;34m=\u001b[0m \u001b[0mBigramLanguageModel\u001b[0m\u001b[0;34m(\u001b[0m\u001b[0mvocab_size\u001b[0m\u001b[0;34m)\u001b[0m\u001b[0;34m\u001b[0m\u001b[0;34m\u001b[0m\u001b[0m\n\u001b[0;32m---> 56\u001b[0;31m \u001b[0mlogits\u001b[0m\u001b[0;34m,\u001b[0m \u001b[0mloss\u001b[0m \u001b[0;34m=\u001b[0m \u001b[0mmodel\u001b[0m\u001b[0;34m.\u001b[0m\u001b[0mcall\u001b[0m\u001b[0;34m(\u001b[0m\u001b[0mxb\u001b[0m\u001b[0;34m,\u001b[0m \u001b[0myb\u001b[0m\u001b[0;34m)\u001b[0m\u001b[0;34m\u001b[0m\u001b[0;34m\u001b[0m\u001b[0m\n\u001b[0m\u001b[1;32m     57\u001b[0m \u001b[0mprint\u001b[0m\u001b[0;34m(\u001b[0m\u001b[0mlogits\u001b[0m\u001b[0;34m.\u001b[0m\u001b[0mshape\u001b[0m\u001b[0;34m)\u001b[0m\u001b[0;34m\u001b[0m\u001b[0;34m\u001b[0m\u001b[0m\n\u001b[1;32m     58\u001b[0m \u001b[0mprint\u001b[0m\u001b[0;34m(\u001b[0m\u001b[0mloss\u001b[0m\u001b[0;34m.\u001b[0m\u001b[0mnumpy\u001b[0m\u001b[0;34m(\u001b[0m\u001b[0;34m)\u001b[0m\u001b[0;34m)\u001b[0m\u001b[0;34m\u001b[0m\u001b[0;34m\u001b[0m\u001b[0m\n",
            "\u001b[0;32m<ipython-input-19-0d35c7757274>\u001b[0m in \u001b[0;36mcall\u001b[0;34m(self, idx, targets)\u001b[0m\n\u001b[1;32m     19\u001b[0m         '''\n\u001b[1;32m     20\u001b[0m         \u001b[0mtoken_emb\u001b[0m \u001b[0;34m=\u001b[0m \u001b[0mself\u001b[0m\u001b[0;34m.\u001b[0m\u001b[0mtoken_embedding_table\u001b[0m\u001b[0;34m(\u001b[0m\u001b[0midx\u001b[0m\u001b[0;34m)\u001b[0m  \u001b[0;31m# Replacing embedding to the indices\u001b[0m\u001b[0;34m\u001b[0m\u001b[0;34m\u001b[0m\u001b[0m\n\u001b[0;32m---> 21\u001b[0;31m         \u001b[0mpos_emb\u001b[0m \u001b[0;34m=\u001b[0m \u001b[0mself\u001b[0m\u001b[0;34m.\u001b[0m\u001b[0mposition_embedding_table\u001b[0m\u001b[0;34m(\u001b[0m\u001b[0mtf\u001b[0m\u001b[0;34m.\u001b[0m\u001b[0mrange\u001b[0m\u001b[0;34m(\u001b[0m\u001b[0mT\u001b[0m\u001b[0;34m,\u001b[0m \u001b[0mdtype\u001b[0m\u001b[0;34m=\u001b[0m\u001b[0mtf\u001b[0m\u001b[0;34m.\u001b[0m\u001b[0mint32\u001b[0m\u001b[0;34m)\u001b[0m\u001b[0;34m)\u001b[0m \u001b[0;31m# (T,C)\u001b[0m\u001b[0;34m\u001b[0m\u001b[0;34m\u001b[0m\u001b[0m\n\u001b[0m\u001b[1;32m     22\u001b[0m         \u001b[0mx\u001b[0m \u001b[0;34m=\u001b[0m \u001b[0mtoken_emb\u001b[0m \u001b[0;34m+\u001b[0m \u001b[0mpos_emb\u001b[0m \u001b[0;31m# (B,T,C)\u001b[0m\u001b[0;34m\u001b[0m\u001b[0;34m\u001b[0m\u001b[0m\n\u001b[1;32m     23\u001b[0m         \u001b[0mlogits\u001b[0m \u001b[0;34m=\u001b[0m \u001b[0mself\u001b[0m\u001b[0;34m.\u001b[0m\u001b[0mlm_head\u001b[0m\u001b[0;34m(\u001b[0m\u001b[0mx\u001b[0m  \u001b[0;34m)\u001b[0m \u001b[0;31m# (B, T, vocab_size)\u001b[0m\u001b[0;34m\u001b[0m\u001b[0;34m\u001b[0m\u001b[0m\n",
            "\u001b[0;31mAttributeError\u001b[0m: 'BigramLanguageModel' object has no attribute 'position_embedding_table'"
          ]
        }
      ],
      "source": [
        "tf.random.set_seed(1337)\n",
        "n_embed = 32\n",
        "\n",
        "\n",
        "class BigramLanguageModel(tf.keras.Model):\n",
        "\n",
        "    def __init__(self, vocab_size):\n",
        "        '''Initializing embedding layer, which maps integer indices to\n",
        "        dense vectors of vocab size'''\n",
        "        super(BigramLanguageModel, self).__init__()\n",
        "        self.token_embedding_table = tf.keras.layers.Embedding(vocab_size, n_embed)\n",
        "        self.lm_head = tf.keras.layers.Dense(units=vocab_size)\n",
        "\n",
        "    def call(self, idx, targets=None):\n",
        "        '''Method for loss calculation, based on idx (input token indices) and\n",
        "        target (target token indices)\n",
        "        B : Batch size\n",
        "        T : Time = sequence length = block size\n",
        "        C : Channel = number of classes = vocab size\n",
        "        '''\n",
        "        token_emb = self.token_embedding_table(idx)  # Replacing embedding to the indices\n",
        "        pos_emb = self.position_embedding_table(tf.range(T, dtype=tf.int32)) # (T,C)\n",
        "        x = token_emb + pos_emb # (B,T,C)\n",
        "        logits = self.lm_head(x  ) # (B, T, vocab_size)\n",
        "\n",
        "        if targets is None:\n",
        "            loss = None\n",
        "        else:\n",
        "            # Reshaping the tensor so that it's compatible with categorical cross entropy\n",
        "            B, T, C = tf.shape(logits) # Get the shape of logits\n",
        "            logits = tf.reshape(logits, (B * T, C)) # Flatten logits for comparison\n",
        "            targets = tf.reshape(targets, (B * T,)) # Flatten targets\n",
        "            loss = tf.reduce_mean(tf.keras.losses.sparse_categorical_crossentropy(targets, logits, from_logits=True))\n",
        "        return logits, loss\n",
        "\n",
        "    def generate(self, idx, max_new_tokens):\n",
        "        '''\n",
        "        Text generating method\n",
        "        '''\n",
        "        # idx is (B, T) array of indices in the current context\n",
        "        for _ in range(max_new_tokens):\n",
        "            # get the predictions\n",
        "            logits, loss = self(idx)\n",
        "            # focus only on the last time step\n",
        "            logits = logits[:, -1, :]  # becomes (B, C)\n",
        "            # apply softmax to get probabilities\n",
        "            probs = tf.nn.softmax(logits, axis=-1)  # (B, C)\n",
        "            # sample prediction from the distribution\n",
        "            idx_next = tf.random.categorical(tf.math.log(probs), num_samples=1, dtype=tf.int64)\n",
        "\n",
        "#            idx_next = tf.random.categorical(probs, num_samples=1)  # (B, 1)\n",
        "            # append sampled index to the running sequence\n",
        "            idx = tf.concat([idx, tf.cast(idx_next, tf.int32)], axis=1)  # (B, T+1)\n",
        "        return idx\n",
        "\n",
        "model = BigramLanguageModel(vocab_size)\n",
        "logits, loss = model.call(xb, yb)\n",
        "print(logits.shape)\n",
        "print(loss.numpy())\n",
        "\n",
        "print(decode(model.generate(idx=tf.zeros((1, 1), dtype=tf.int32), max_new_tokens=100)[0].numpy().tolist()))\n"
      ]
    },
    {
      "cell_type": "code",
      "execution_count": null,
      "metadata": {
        "id": "xYe3qjEKsdrT",
        "outputId": "b75d3355-72ce-49d4-b568-ae91d8910b22"
      },
      "outputs": [
        {
          "data": {
            "text/plain": [
              "TensorShape([4, 8, 16])"
            ]
          },
          "execution_count": 21,
          "metadata": {},
          "output_type": "execute_result"
        }
      ],
      "source": [
        "# Video from 1:00:00. Need to recheck how self-attention functions\n",
        "\n",
        "# Version 4: self-attention\n",
        "tf.random.set_seed(1337)\n",
        "B,T,C = 4, 8, 32 # batch, time, channels\n",
        "x = tf.random.normal(shape=(B, T, C))\n",
        "\n",
        "# Single head perform self-attention\n",
        "head_size = 16\n",
        "key = tf.keras.layers.Dense(units=head_size, use_bias=False)\n",
        "query = tf.keras.layers.Dense(units=head_size, use_bias=False)\n",
        "value = tf.keras.layers.Dense(units=head_size, use_bias=False)\n",
        "\n",
        "# All tokens in all positions produce independent key and query\n",
        "k = key(x) # B, T, 16\n",
        "q = query(x) # B, T, 16\n",
        "# Communicating key with query\n",
        "w = q @ tf.transpose(k, perm=[0,2,1]) # (B, T, 16) @ (B, 16, T) -> (B,T,T)\n",
        "\n",
        "tril = tf.linalg.band_part(tf.ones((T,T)),num_lower = 8, num_upper= 0)\n",
        "w = tf.zeros((T,T))\n",
        "w = tf.where(tril == 0, float('-inf'), w) # Upper triangular masking, indicating future bow cannot communicate with the past\n",
        "w = tf.nn.softmax(w, axis = -1) # normalizing the weight matrix\n",
        "\n",
        "v = value(x)\n",
        "out = w @ v\n",
        "#out = w @ x # K : private information\n",
        "\n",
        "out.shape"
      ]
    },
    {
      "cell_type": "code",
      "execution_count": null,
      "metadata": {
        "id": "OpNuGRGNsdrT",
        "outputId": "4451c7df-e121-40d6-b17a-0fbf8ca6df3b"
      },
      "outputs": [
        {
          "name": "stdout",
          "output_type": "stream",
          "text": [
            "[[1.       0.       0.       0.       0.       0.       0.       0.      ]\n",
            " [0.5      0.5      0.       0.       0.       0.       0.       0.      ]\n",
            " [0.333333 0.333333 0.333333 0.       0.       0.       0.       0.      ]\n",
            " [0.25     0.25     0.25     0.25     0.       0.       0.       0.      ]\n",
            " [0.2      0.2      0.2      0.2      0.2      0.       0.       0.      ]\n",
            " [0.166667 0.166667 0.166667 0.166667 0.166667 0.166667 0.       0.      ]\n",
            " [0.142857 0.142857 0.142857 0.142857 0.142857 0.142857 0.142857 0.      ]\n",
            " [0.125    0.125    0.125    0.125    0.125    0.125    0.125    0.125   ]]\n"
          ]
        }
      ],
      "source": [
        "# Verifying whether the row sum of weights equal 1\n",
        "import numpy as np\n",
        "# Convert TensorFlow tensor to NumPy array\n",
        "w_np = w.numpy()\n",
        "\n",
        "# Set NumPy print options to suppress scientific notation\n",
        "np.set_printoptions(suppress=True)\n",
        "\n",
        "# Print the tensor\n",
        "print(w_np.round(6))"
      ]
    },
    {
      "cell_type": "code",
      "execution_count": null,
      "metadata": {
        "id": "fvl5KXLEsdrT"
      },
      "outputs": [],
      "source": [
        "q = tf.random.normal((B, T, head_size))\n",
        "k = tf.random.normal((B, T, head_size))\n",
        "\n",
        "# Calculate the weights\n",
        "wei = q @ tf.transpose(k, perm=[0, 2, 1]) * (head_size ** -0.5)"
      ]
    },
    {
      "cell_type": "code",
      "execution_count": null,
      "metadata": {
        "id": "pRNjY0ThsdrU",
        "outputId": "c643ec9b-19d6-4910-d9ad-f0e109947de9"
      },
      "outputs": [
        {
          "data": {
            "text/plain": [
              "0.9939072"
            ]
          },
          "execution_count": 24,
          "metadata": {},
          "output_type": "execute_result"
        }
      ],
      "source": [
        "tf.math.reduce_variance(k).numpy()"
      ]
    },
    {
      "cell_type": "code",
      "execution_count": null,
      "metadata": {
        "id": "9bRBh_KYsdrU",
        "outputId": "9fea4599-889c-42d9-fe8f-ec924e6c9f46"
      },
      "outputs": [
        {
          "data": {
            "text/plain": [
              "0.9280848"
            ]
          },
          "execution_count": 25,
          "metadata": {},
          "output_type": "execute_result"
        }
      ],
      "source": [
        "tf.math.reduce_variance(q).numpy()"
      ]
    },
    {
      "cell_type": "code",
      "execution_count": null,
      "metadata": {
        "id": "FVZBnGnDsdrU",
        "outputId": "017f049b-e6ea-4649-af35-da99732ae051"
      },
      "outputs": [
        {
          "data": {
            "text/plain": [
              "0.9270358"
            ]
          },
          "execution_count": 26,
          "metadata": {},
          "output_type": "execute_result"
        }
      ],
      "source": [
        "tf.math.reduce_variance(wei).numpy()"
      ]
    },
    {
      "cell_type": "code",
      "execution_count": null,
      "metadata": {
        "id": "2rF0c_GmsdrU",
        "outputId": "2a0b7a10-812b-4293-a39e-4f43f18d652d"
      },
      "outputs": [
        {
          "data": {
            "text/plain": [
              "TensorShape([4, 8, 32])"
            ]
          },
          "execution_count": 27,
          "metadata": {},
          "output_type": "execute_result"
        }
      ],
      "source": [
        "x.shape"
      ]
    },
    {
      "cell_type": "code",
      "execution_count": null,
      "metadata": {
        "id": "4ZQxtMTmsdrU",
        "outputId": "fde35067-2997-4444-9eaa-fc7dd052ff24"
      },
      "outputs": [
        {
          "name": "stdout",
          "output_type": "stream",
          "text": [
            "(16384, 65)\n",
            "4.9176507\n",
            "Step 0: train loss 4.9358, val loss 4.9593\n",
            "Step 200: train loss 3.0522, val loss 3.0692\n",
            "Step 400: train loss 2.7568, val loss 2.7682\n",
            "Step 600: train loss 2.6052, val loss 2.6109\n",
            "Step 800: train loss 2.5359, val loss 2.5471\n",
            "Step 1000: train loss 2.5138, val loss 2.5287\n",
            "Step 1200: train loss 2.4898, val loss 2.5081\n",
            "Step 1400: train loss 2.5138, val loss 2.5282\n",
            "Step 1600: train loss 2.5075, val loss 2.5315\n",
            "Step 1800: train loss 2.4910, val loss 2.5144\n",
            "Final Loss: 2.4965360164642334\n",
            "\n",
            "\n",
            "\n",
            "\n",
            "\n",
            "\n",
            "\n",
            "\n",
            "\n",
            "\n",
            "\n",
            "\n",
            "\n",
            "\n",
            "\n",
            "\n",
            "\n",
            "\n",
            "\n",
            "\n",
            "\n",
            "\n",
            "\n",
            "\n",
            "\n",
            "\n",
            "\n",
            "\n",
            "\n",
            "\n",
            "\n",
            "\n",
            "\n",
            "\n",
            "\n",
            "\n",
            "\n",
            "\n",
            "\n",
            "\n",
            "\n",
            "\n",
            "\n",
            "\n",
            "\n",
            "\n",
            "\n",
            "\n",
            "\n",
            "\n",
            "\n",
            "\n",
            "\n",
            "\n",
            "\n",
            "\n",
            "\n",
            "\n",
            "\n",
            "\n",
            "\n",
            "\n",
            "\n",
            "\n",
            "\n",
            "\n",
            "\n",
            "\n",
            "\n",
            "\n",
            "\n",
            "\n",
            "\n",
            "\n",
            "\n",
            "\n",
            "\n",
            "\n",
            "\n",
            "\n",
            "\n",
            "\n",
            "\n",
            "\n",
            "\n",
            "\n",
            "\n",
            "\n",
            "\n",
            "\n",
            "\n",
            "\n",
            "\n",
            "\n",
            "\n",
            "\n",
            "\n",
            "\n",
            "\n",
            "\n",
            "\n",
            "\n",
            "\n",
            "\n",
            "\n",
            "\n",
            "\n",
            "\n",
            "\n",
            "\n",
            "\n",
            "\n",
            "\n",
            "\n",
            "\n",
            "\n",
            "\n",
            "\n",
            "\n",
            "\n",
            "\n",
            "\n",
            "\n",
            "\n",
            "\n",
            "\n",
            "\n",
            "\n",
            "\n",
            "\n",
            "\n",
            "\n",
            "\n",
            "\n",
            "\n",
            "\n",
            "\n",
            "\n",
            "\n",
            "\n",
            "\n",
            "\n",
            "\n",
            "\n",
            "\n",
            "\n",
            "\n",
            "\n",
            "\n",
            "\n",
            "\n",
            "\n",
            "\n",
            "\n",
            "\n",
            "\n",
            "\n",
            "\n",
            "\n",
            "\n",
            "\n",
            "\n",
            "\n",
            "\n",
            "\n",
            "\n",
            "\n",
            "\n",
            "\n",
            "\n",
            "\n",
            "\n",
            "\n",
            "\n",
            "\n",
            "\n",
            "\n",
            "\n",
            "\n",
            "\n",
            "\n",
            "\n",
            "\n",
            "\n",
            "\n",
            "\n",
            "\n",
            "\n",
            "\n",
            "\n",
            "\n",
            "\n",
            "\n",
            "\n",
            "\n",
            "\n",
            "\n",
            "\n",
            "\n",
            "\n",
            "\n",
            "\n",
            "\n",
            "\n",
            "\n",
            "\n",
            "\n",
            "\n",
            "\n",
            "\n",
            "\n",
            "\n",
            "\n",
            "\n",
            "\n",
            "\n",
            "\n",
            "\n",
            "\n",
            "\n",
            "\n",
            "\n",
            "\n",
            "\n",
            "\n",
            "\n",
            "\n",
            "\n",
            "\n",
            "\n",
            "\n",
            "\n",
            "\n",
            "\n",
            "\n",
            "\n",
            "\n",
            "\n",
            "\n",
            "\n",
            "\n",
            "\n",
            "\n",
            "\n",
            "\n",
            "\n",
            "\n",
            "\n",
            "\n",
            "\n",
            "\n",
            "\n",
            "\n",
            "\n",
            "\n",
            "\n",
            "ORO tharthy,\n",
            "Ost veapy t ours,\n",
            "Auladeane wese t\n",
            "Ol thlent ug he s?\n",
            "In,\n",
            "ncordllder urild:\n",
            "nouye aveet\n"
          ]
        }
      ],
      "source": [
        "head_size = 6\n",
        "max_iters = 2000\n",
        "eval_interval = 500\n",
        "learning_rate = 1e-2\n",
        "eval_iters = 200\n",
        "n_embed = 384\n",
        "batch_size = 64\n",
        "block_size = 256\n",
        "dropout = 0.3\n",
        "\n",
        "n_layer = 3\n",
        "\n",
        "class Head(tf.keras.Model):\n",
        "    \"\"\"one head of self-attention\"\"\"\n",
        "\n",
        "    def __init__(self, head_size):\n",
        "        '''Initializing embedding layer, which maps integer indices to\n",
        "        dense vectors of vocab size'''\n",
        "        super(Head, self).__init__()\n",
        "        self.key = tf.keras.layers.Dense(units=head_size, use_bias=False)\n",
        "        self.query = tf.keras.layers.Dense(units=head_size, use_bias=False)\n",
        "        self.value = tf.keras.layers.Dense(units=head_size, use_bias=False)\n",
        "        self.tril = tf.constant(tf.linalg.band_part(tf.ones((block_size, block_size)), -1, 0), dtype= tf.float32)\n",
        "        self.dropout = tf.keras.layers.Dropout(dropout)\n",
        "\n",
        "    def call(self, x):\n",
        "        B, T, C = x.shape\n",
        "        k = self.key(x)     # (B,T,C)\n",
        "        q = self.query(x)   # (B,T,C)\n",
        "        # compute attention scores ('affinities')\n",
        "        wei = tf.matmul(q, k, transpose_b=True) * (C ** -0.5) # (B,T,C) @ (B,C,T ) -> (B,T,T))\n",
        "        wei = tf.where(self.tril[:T, :T] == 0, float('-inf'), wei) # Mask the upper triangular part\n",
        "        wei = tf.nn.softmax(wei, axis = -1)\n",
        "        wei = self.dropout(wei)\n",
        "        # perform the weighted aggregation of the values\n",
        "        v = self.value(x) # (B,T,C)\n",
        "        out = tf.matmul(wei, v) # (B,T,T) @ (B,T,C) -> (B,T,C)\n",
        "        return out\n",
        "\n",
        "class FeedForward(tf.keras.layers.Layer):\n",
        "    '''A simple linear layer followed by a non-linearity'''\n",
        "    def __init__(self, n_embed):\n",
        "        super().__init__()\n",
        "        self.net = tf.keras.Sequential([\n",
        "            tf.keras.layers.Dense(4 * n_embed), # (n_embed, 4 * n_embed)\n",
        "            tf.keras.layers.ReLU(),\n",
        "            tf.keras.layers.Dense(n_embed), # (4 * n_embed, n_embed)\n",
        "            tf.keras.layers.Dropout(dropout),\n",
        "        ])\n",
        "\n",
        "    def call(self, x):\n",
        "        return self.net(x)\n",
        "\n",
        "\n",
        "class MultiHeadAttention(tf.keras.layers.Layer):\n",
        "    '''Multiple heads of self-attention in parallel'''\n",
        "\n",
        "    def __init__(self,num_heads, head_size):\n",
        "        super().__init__()\n",
        "        self.heads = [Head(head_size) for _ in range(num_heads)]\n",
        "        self.projection = tf.keras.layers.Dense(n_embed)\n",
        "        self.dropout = tf.keras.layers.Dropout(dropout)\n",
        "\n",
        "    def call(self, x):\n",
        "        out = tf.concat([h(x) for h in self.heads], axis=-1)\n",
        "        out = self.dropout(self.projection(out))\n",
        "        return out\n",
        "\n",
        "class Block(tf.keras.layers.Layer):\n",
        "    \"\"\"Transformer blocks : communication followed by computation\"\"\"\n",
        "\n",
        "    def __init__(self, n_embed, n_head):\n",
        "        # n_embed : embedding dimension, n_head : the number of heads we'd like\n",
        "        super().__init__()\n",
        "        head_size = n_embed // n_head\n",
        "        self.sa = MultiHeadAttention(n_head, head_size)\n",
        "        self.ffwd = FeedForward(n_embed)\n",
        "        self.ln1 = tf.keras.layers.LayerNormalization(axis=-1)\n",
        "        self.ln2 = tf.keras.layers.LayerNormalization(axis=-1)\n",
        "\n",
        "    def call(self, x):\n",
        "        x = x + self.sa(self.ln1(x))\n",
        "        x = x + self.ffwd(self.ln2(x))\n",
        "        return x\n",
        "\n",
        "class BigramLanguageModel(tf.keras.Model):\n",
        "\n",
        "    def __init__(self, vocab_size):\n",
        "        '''Initializing embedding layer, which maps integer indices to\n",
        "        dense vectors of vocab size'''\n",
        "        super(BigramLanguageModel, self).__init__()\n",
        "        self.token_embedding_table = tf.keras.layers.Embedding(vocab_size, n_embed)\n",
        "        self.position_embedding_table = tf.keras.layers.Embedding(block_size, n_embed)\n",
        "        self.blocks = tf.keras.Sequential([Block(n_embed = n_embed, n_head = 4) for _ in range(n_layer)])\n",
        "        self.ln_f = tf.keras.layers.LayerNormalization(axis=-1) # final layer normalization\n",
        "        self.lm_head = tf.keras.layers.Dense(units=vocab_size)\n",
        "\n",
        "    def call(self, idx, targets = None):\n",
        "        '''Method for loss calculation, based on idx (input token indices) and\n",
        "        target (target token indices)\n",
        "        B : Batch size\n",
        "        T : Time = sequence length = block size\n",
        "        C : Channel = number of classes = vocab size\n",
        "        '''\n",
        "        B, T = idx.shape\n",
        "\n",
        "        # idx and targets are both (B,T) tensor of integers\n",
        "        token_emb = self.token_embedding_table(idx) # (B,T,C)\n",
        "        position_emb = self.position_embedding_table(tf.range(T, dtype=tf.int32)) # (T, C)\n",
        "        x = token_emb + position_emb # (B,T,C)\n",
        "        x = self.blocks(x) # (B, T, C)\n",
        "        x = self.ln_f(x)\n",
        "        logits = self.lm_head(x) # (B, T, vocab_size)\n",
        "\n",
        "        if targets is None:\n",
        "            loss = None\n",
        "        else:\n",
        "            # Reshaping the tensor so that it's compatible with categorical cross entropy\n",
        "            B, T, C = tf.shape(logits) # Get the shape of logits\n",
        "            logits = tf.reshape(logits, (B * T, C)) # Flatten logits for comparison\n",
        "            targets = tf.reshape(targets, (B * T,)) # Flatten targets\n",
        "            loss = tf.reduce_mean(tf.keras.losses.sparse_categorical_crossentropy(targets, logits, from_logits=True))\n",
        "        return logits, loss\n",
        "\n",
        "    def generate(self, idx, max_new_tokens):\n",
        "        '''\n",
        "        Text generating method\n",
        "        '''\n",
        "        # idx is (B, T) array of indices in the current context\n",
        "        for _ in range(max_new_tokens):\n",
        "            # crop idx to the last block_size tokens\n",
        "            idx_cond = idx[:,-block_size:]\n",
        "            # get the predictions\n",
        "            logits, loss = self(idx_cond)\n",
        "            # focus only on the last time step\n",
        "            logits = logits[:, -1, :]  # becomes (B, C)\n",
        "            # apply softmax to get probabilities\n",
        "            probs = tf.nn.softmax(logits, axis=-1)  # (B, C)\n",
        "            # sample prediction from the distribution\n",
        "            idx_next = tf.random.categorical(tf.math.log(probs), num_samples=1, dtype=tf.int32)\n",
        "            # append sampled index to the running sequence\n",
        "            idx = tf.concat([idx, idx_next], axis=1)  # (B, T+1)\n",
        "        return idx\n",
        "\n",
        "model = BigramLanguageModel(vocab_size)\n",
        "logits, loss = model.call(xb, yb)\n",
        "print(logits.shape)\n",
        "print(loss.numpy())\n",
        "\n",
        "\n",
        "\n",
        "optimizer = tf.keras.optimizers.Adam(learning_rate)\n",
        "\n",
        "for step in tf.range(max_iters):\n",
        "    if step % eval_iters == 0:\n",
        "        losses = estimate_loss()\n",
        "        print(f\"Step {step}: train loss {losses['train']:.4f}, val loss {losses['val']:.4f}\")\n",
        "\n",
        "    # Sample a batch of data\n",
        "    xb, yb = get_batch('train')\n",
        "\n",
        "    # Evaluate the loss\n",
        "    with tf.GradientTape() as tape:\n",
        "        logits, loss = model(xb,yb)\n",
        "    gradients = tape.gradient(loss, model.trainable_variables)\n",
        "    optimizer.apply_gradients(zip(gradients, model.trainable_variables))\n",
        "\n",
        "print(f'Final Loss: {loss.numpy()}')\n",
        "\n",
        "print(decode(model.generate(idx=tf.zeros((1, block_size), dtype=tf.int32), max_new_tokens=100)[0].numpy().tolist()))\n"
      ]
    },
    {
      "cell_type": "code",
      "execution_count": null,
      "metadata": {
        "id": "h5VOZrv4sdrV",
        "outputId": "40858cc0-b0d8-4562-e545-74bf752495e6"
      },
      "outputs": [
        {
          "name": "stdout",
          "output_type": "stream",
          "text": [
            "\n",
            "\n",
            "\n",
            "\n",
            "\n",
            "\n",
            "\n",
            "\n",
            "\n",
            "\n",
            "\n",
            "\n",
            "\n",
            "\n",
            "\n",
            "\n",
            "\n",
            "\n",
            "\n",
            "\n",
            "\n",
            "\n",
            "\n",
            "\n",
            "\n",
            "\n",
            "\n",
            "\n",
            "\n",
            "\n",
            "\n",
            "\n",
            "\n",
            "\n",
            "\n",
            "\n",
            "\n",
            "\n",
            "\n",
            "\n",
            "\n",
            "\n",
            "\n",
            "\n",
            "\n",
            "\n",
            "\n",
            "\n",
            "\n",
            "\n",
            "\n",
            "\n",
            "\n",
            "\n",
            "\n",
            "\n",
            "\n",
            "\n",
            "\n",
            "\n",
            "\n",
            "\n",
            "\n",
            "\n",
            "\n",
            "\n",
            "\n",
            "\n",
            "\n",
            "\n",
            "\n",
            "\n",
            "\n",
            "\n",
            "\n",
            "\n",
            "\n",
            "\n",
            "\n",
            "\n",
            "\n",
            "\n",
            "\n",
            "\n",
            "\n",
            "\n",
            "\n",
            "\n",
            "\n",
            "\n",
            "\n",
            "\n",
            "\n",
            "\n",
            "\n",
            "\n",
            "\n",
            "\n",
            "\n",
            "\n",
            "\n",
            "\n",
            "\n",
            "\n",
            "\n",
            "\n",
            "\n",
            "\n",
            "\n",
            "\n",
            "\n",
            "\n",
            "\n",
            "\n",
            "\n",
            "\n",
            "\n",
            "\n",
            "\n",
            "\n",
            "\n",
            "\n",
            "\n",
            "\n",
            "\n",
            "\n",
            "\n",
            "\n",
            "\n",
            "\n",
            "\n",
            "\n",
            "\n",
            "\n",
            "\n",
            "\n",
            "\n",
            "\n",
            "\n",
            "\n",
            "\n",
            "\n",
            "\n",
            "\n",
            "\n",
            "\n",
            "\n",
            "\n",
            "\n",
            "\n",
            "\n",
            "\n",
            "\n",
            "\n",
            "\n",
            "\n",
            "\n",
            "\n",
            "\n",
            "\n",
            "\n",
            "\n",
            "\n",
            "\n",
            "\n",
            "\n",
            "\n",
            "\n",
            "\n",
            "\n",
            "\n",
            "\n",
            "\n",
            "\n",
            "\n",
            "\n",
            "\n",
            "\n",
            "\n",
            "\n",
            "\n",
            "\n",
            "\n",
            "\n",
            "\n",
            "\n",
            "\n",
            "\n",
            "\n",
            "\n",
            "\n",
            "\n",
            "\n",
            "\n",
            "\n",
            "\n",
            "\n",
            "\n",
            "\n",
            "\n",
            "\n",
            "\n",
            "\n",
            "\n",
            "\n",
            "\n",
            "\n",
            "\n",
            "\n",
            "\n",
            "\n",
            "\n",
            "\n",
            "\n",
            "\n",
            "\n",
            "\n",
            "\n",
            "\n",
            "\n",
            "\n",
            "\n",
            "\n",
            "\n",
            "\n",
            "\n",
            "\n",
            "\n",
            "\n",
            "\n",
            "\n",
            "\n",
            "\n",
            "\n",
            "\n",
            "\n",
            "\n",
            "\n",
            "\n",
            "\n",
            "\n",
            "\n",
            "\n",
            "\n",
            "\n",
            "\n",
            "\n",
            "\n",
            "\n",
            "\n",
            "\n",
            "\n",
            "\n",
            "\n",
            "\n",
            "\n",
            "MOF:\n",
            "HBRDUEENOLIA:\n",
            "ININWAN:\n",
            "AUROLAOLI: od the O:\n",
            "ARCut-\n",
            "Fo lelle h aver t rstwathit bellly poenly ll\n"
          ]
        }
      ],
      "source": [
        "print(decode(model.generate(idx=tf.zeros((1, block_size), dtype=tf.int32), max_new_tokens=100)[0].numpy().tolist()))\n"
      ]
    }
  ],
  "metadata": {
    "kernelspec": {
      "display_name": "Python 3",
      "name": "python3"
    },
    "language_info": {
      "codemirror_mode": {
        "name": "ipython",
        "version": 3
      },
      "file_extension": ".py",
      "mimetype": "text/x-python",
      "name": "python",
      "nbconvert_exporter": "python",
      "pygments_lexer": "ipython3",
      "version": "3.10.6"
    },
    "colab": {
      "provenance": [],
      "gpuType": "T4"
    },
    "accelerator": "GPU"
  },
  "nbformat": 4,
  "nbformat_minor": 0
}